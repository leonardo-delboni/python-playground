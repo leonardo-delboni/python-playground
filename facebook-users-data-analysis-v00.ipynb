{
 "cells": [
  {
   "cell_type": "markdown",
   "id": "aa2c0bbb",
   "metadata": {},
   "source": [
    "# Formulaire sans titre (réponses)\n",
    "# Data Analysis in Python\n",
    "#### Data Analysis in Python language\n",
    "#### Developed by Leonardo Travagini Delboni "
   ]
  },
  {
   "cell_type": "code",
   "execution_count": 1,
   "id": "13a0b1e0",
   "metadata": {},
   "outputs": [
    {
     "name": "stdout",
     "output_type": "stream",
     "text": [
      "Developed by Leonardo Travagini Delboni\n"
     ]
    }
   ],
   "source": [
    "print('Developed by Leonardo Travagini Delboni')"
   ]
  },
  {
   "cell_type": "markdown",
   "id": "b15beb97",
   "metadata": {},
   "source": [
    "### Libraries used:"
   ]
  },
  {
   "cell_type": "code",
   "execution_count": 2,
   "id": "7a1cbe90",
   "metadata": {},
   "outputs": [],
   "source": [
    "# Libraries:\n",
    "import pandas as pd\n",
    "import matplotlib.pyplot as plt\n",
    "\n",
    "# Printing all images directly to the jupyter notebook\n",
    "%matplotlib inline                                  "
   ]
  },
  {
   "cell_type": "markdown",
   "id": "a101e0d4",
   "metadata": {},
   "source": [
    "### Importing the online database from the survey to our program:"
   ]
  },
  {
   "cell_type": "code",
   "execution_count": 3,
   "id": "7e66caa7",
   "metadata": {},
   "outputs": [],
   "source": [
    "# Importing the online CSV database:\n",
    "sheet_full_source = 'https://docs.google.com/spreadsheets/d/1C6B4l77lTCAx7xIzXKkvEtQbBnHdez1vi42_EYFbp_A/edit#gid=1641159747'\n",
    "sheet_id = '1C6B4l77lTCAx7xIzXKkvEtQbBnHdez1vi42_EYFbp_A'\n",
    "xls = pd.ExcelFile(f\"https://docs.google.com/spreadsheets/d/{sheet_id}/export?format=xlsx\")\n",
    "df = pd.read_excel(xls,'Réponses au formulaire 1', header =1)\n",
    "#df                                            # Uncomment this line to check this step"
   ]
  },
  {
   "cell_type": "code",
   "execution_count": 4,
   "id": "0b3cef5e",
   "metadata": {},
   "outputs": [
    {
     "name": "stderr",
     "output_type": "stream",
     "text": [
      "C:\\Users\\Usuario\\AppData\\Local\\Temp\\ipykernel_13180\\1743112762.py:2: FutureWarning: The default dtype for empty Series will be 'object' instead of 'float64' in a future version. Specify a dtype explicitly to silence this warning.\n",
      "  s = pd.Series([])                              # Creating an empty series\n",
      "C:\\Users\\Usuario\\AppData\\Local\\Temp\\ipykernel_13180\\1743112762.py:3: FutureWarning: The frame.append method is deprecated and will be removed from pandas in a future version. Use pandas.concat instead.\n",
      "  df = df.append(s, ignore_index = True)         # Adding an empty row at the end of the dataframe\n"
     ]
    }
   ],
   "source": [
    "# Creating an empty row at the end:\n",
    "s = pd.Series([])                              # Creating an empty series\n",
    "df = df.append(s, ignore_index = True)         # Adding an empty row at the end of the dataframe\n",
    "#df                                            # Uncomment this line to check this step"
   ]
  },
  {
   "cell_type": "code",
   "execution_count": 5,
   "id": "816bf58b",
   "metadata": {},
   "outputs": [],
   "source": [
    "# Fixing the titles row:\n",
    "df = df.shift(periods=1)                       # Shifting all the rows one line down\n",
    "df.loc[0] = df.columns                         # Copying the title values in this first line\n",
    "#df                                            # Uncomment this line to check this step"
   ]
  },
  {
   "cell_type": "code",
   "execution_count": 6,
   "id": "cf8f4004",
   "metadata": {},
   "outputs": [],
   "source": [
    "# Rewriting the title row:\n",
    "df.columns = ['time', \\\n",
    "              'facebook', \\\n",
    "              'age', \\\n",
    "              'gender', \\\n",
    "              'education', \\\n",
    "              'marital_status', \\\n",
    "              'average_daily_time', \\\n",
    "              'facebook_following', \\\n",
    "              'facebook_influence', \\\n",
    "              'facebook_influence_item', \\\n",
    "              'pay_attention', \\\n",
    "              'purchase_through_facebook_ad', \\\n",
    "              'type_of_this_purchase', \\\n",
    "              'facebook_review_easier_traditional_way', \\\n",
    "              'facebook_reviews_reading', \\\n",
    "              'facebook_reviews_influence_purchasing_behavior', \\\n",
    "              'main_action_facebook_purchasing', \\\n",
    "              'facebook_purchasing_influence_grade']\n",
    "#df                                            # Uncomment this line to check this step"
   ]
  },
  {
   "cell_type": "code",
   "execution_count": 7,
   "id": "ccaa107b",
   "metadata": {},
   "outputs": [
    {
     "name": "stdout",
     "output_type": "stream",
     "text": [
      "The total number of answers was: 152\n"
     ]
    }
   ],
   "source": [
    "# Total answers:\n",
    "total = len(df.index)\n",
    "print('The total number of answers was:',total)"
   ]
  },
  {
   "cell_type": "markdown",
   "id": "1d9ac125",
   "metadata": {},
   "source": [
    "# Analyzing the number of Facebook users:"
   ]
  },
  {
   "cell_type": "code",
   "execution_count": 8,
   "id": "76fa09db",
   "metadata": {},
   "outputs": [
    {
     "name": "stdout",
     "output_type": "stream",
     "text": [
      "Analysis per Facebook Users - Absolute and Percentage values:\n"
     ]
    },
    {
     "data": {
      "text/html": [
       "<div>\n",
       "<style scoped>\n",
       "    .dataframe tbody tr th:only-of-type {\n",
       "        vertical-align: middle;\n",
       "    }\n",
       "\n",
       "    .dataframe tbody tr th {\n",
       "        vertical-align: top;\n",
       "    }\n",
       "\n",
       "    .dataframe thead th {\n",
       "        text-align: right;\n",
       "    }\n",
       "</style>\n",
       "<table border=\"1\" class=\"dataframe\">\n",
       "  <thead>\n",
       "    <tr style=\"text-align: right;\">\n",
       "      <th></th>\n",
       "      <th>facebook</th>\n",
       "      <th>percentage</th>\n",
       "    </tr>\n",
       "  </thead>\n",
       "  <tbody>\n",
       "    <tr>\n",
       "      <th>Yes</th>\n",
       "      <td>144</td>\n",
       "      <td>94.74</td>\n",
       "    </tr>\n",
       "    <tr>\n",
       "      <th>No</th>\n",
       "      <td>8</td>\n",
       "      <td>5.26</td>\n",
       "    </tr>\n",
       "  </tbody>\n",
       "</table>\n",
       "</div>"
      ],
      "text/plain": [
       "     facebook  percentage\n",
       "Yes       144       94.74\n",
       "No          8        5.26"
      ]
     },
     "execution_count": 8,
     "metadata": {},
     "output_type": "execute_result"
    }
   ],
   "source": [
    "print('Analysis per Facebook Users - Absolute and Percentage values:')\n",
    "df_facebook = df.facebook.value_counts().to_frame()                   # Converting to a dataframe\n",
    "df_facebook['percentage'] = ((df_facebook['facebook'] / \n",
    "                               df_facebook['facebook'].sum())*100).round(2)\n",
    "df_facebook"
   ]
  },
  {
   "cell_type": "code",
   "execution_count": 9,
   "id": "6cdad3bb",
   "metadata": {},
   "outputs": [
    {
     "name": "stdout",
     "output_type": "stream",
     "text": [
      "Regarding being or not being a Facebook user:\n",
      "\n",
      "In absolut values:\n",
      "YES: 144\n",
      "NO 8\n",
      "TOTAL 152\n",
      "\n",
      "In percentage terms:\n",
      "YES: 94.74 %\n",
      "NO 5.26 %\n",
      "TOTAL 100.0 %\n"
     ]
    }
   ],
   "source": [
    "# Facebook users - literal values:\n",
    "users = df['facebook'].value_counts()[0]\n",
    "not_users = df['facebook'].value_counts()[1]\n",
    "total1 = users + not_users\n",
    "print('Regarding being or not being a Facebook user:\\n')\n",
    "print('In absolut values:')\n",
    "print('YES:',users)\n",
    "print('NO',not_users)\n",
    "print('TOTAL',total1)\n",
    "\n",
    "# Facebook users - percentage values:\n",
    "print('\\nIn percentage terms:')\n",
    "users_pct = df.facebook.value_counts(normalize=True)[0]\n",
    "not_users_pct = df.facebook.value_counts(normalize=True)[1]\n",
    "print('YES:',round(users_pct*100,2),'%')\n",
    "print('NO',round(not_users_pct*100,2),'%')\n",
    "print('TOTAL',round((users_pct+not_users_pct)*100,2),'%')"
   ]
  },
  {
   "cell_type": "code",
   "execution_count": 10,
   "id": "461793ce",
   "metadata": {},
   "outputs": [
    {
     "name": "stdout",
     "output_type": "stream",
     "text": [
      "Regarding the ages:\n",
      "\n",
      "In absolute values:\n",
      "17 or less: 22\n",
      "18 - 25:    72\n",
      "26 - 35:    49\n",
      "46 - 55:    4\n",
      "55 or more: 3\n"
     ]
    }
   ],
   "source": [
    "print('Regarding the ages:\\n')\n",
    "\n",
    "# Age - literal values:\n",
    "print('In absolute values:')\n",
    "range_18_25 = df.age.value_counts()[0]\n",
    "range_26_35 = df.age.value_counts()[1]\n",
    "range_17_less = df.age.value_counts()[2]\n",
    "range_46_55 = df.age.value_counts()[3]\n",
    "range_55_more = df.age.value_counts()[4]\n",
    "print('17 or less:',range_17_less)\n",
    "print('18 - 25:   ',range_18_25)\n",
    "print('26 - 35:   ',range_26_35)\n",
    "print('46 - 55:   ',range_46_55)\n",
    "print('55 or more:',range_55_more)"
   ]
  },
  {
   "cell_type": "code",
   "execution_count": 11,
   "id": "f5257639",
   "metadata": {},
   "outputs": [
    {
     "data": {
      "text/plain": [
       "<AxesSubplot:title={'center':'Quantity of Facebook Users - Absolute Numbers'}, xlabel='Users x Not Users', ylabel='Quantity'>"
      ]
     },
     "execution_count": 11,
     "metadata": {},
     "output_type": "execute_result"
    },
    {
     "data": {
      "image/png": "[encoded data removed]",
      "text/plain": [
       "<Figure size 432x288 with 1 Axes>"
      ]
     },
     "metadata": {
      "needs_background": "light"
     },
     "output_type": "display_data"
    }
   ],
   "source": [
    "# Facebook Users - Graph of the Absolute Numbers:\n",
    "fig, ax = plt.subplots()\n",
    "font1 = {'family':'serif','color':'blue','size':20}\n",
    "font2 = {'family':'serif','color':'darkred','size':15}\n",
    "plt.title(\"Quantity of Facebook Users - Absolute Numbers\", fontdict=font1)\n",
    "plt.xlabel(\"Users x Not Users\", fontdict = font2)\n",
    "plt.ylabel(\"Quantity\", fontdict = font2)\n",
    "df.facebook.value_counts().plot(ax=ax, kind='bar')"
   ]
  },
  {
   "cell_type": "code",
   "execution_count": 12,
   "id": "2dada9ab",
   "metadata": {},
   "outputs": [
    {
     "data": {
      "text/plain": [
       "<AxesSubplot:title={'center':'Quantity of Facebook Users - Percentage Numbers'}, xlabel='Users x Not Users', ylabel='Percentage'>"
      ]
     },
     "execution_count": 12,
     "metadata": {},
     "output_type": "execute_result"
    },
    {
     "data": {
      "image/png": "[encoded data removed]",
      "text/plain": [
       "<Figure size 432x288 with 1 Axes>"
      ]
     },
     "metadata": {
      "needs_background": "light"
     },
     "output_type": "display_data"
    }
   ],
   "source": [
    "# Facebook Users - Graph of the Percentage Numbers:\n",
    "fig, ax = plt.subplots()\n",
    "font1 = {'family':'serif','color':'blue','size':20}\n",
    "font2 = {'family':'serif','color':'darkred','size':15}\n",
    "plt.title(\"Quantity of Facebook Users - Percentage Numbers\", fontdict=font1)\n",
    "plt.xlabel(\"Users x Not Users\", fontdict = font2)\n",
    "plt.ylabel(\"Percentage\", fontdict = font2)\n",
    "df.facebook.value_counts(normalize=True).plot(ax=ax, kind='bar')"
   ]
  },
  {
   "cell_type": "markdown",
   "id": "de5e3422",
   "metadata": {},
   "source": [
    "# Analysing regarding the age:"
   ]
  },
  {
   "cell_type": "code",
   "execution_count": 13,
   "id": "19e86bdb",
   "metadata": {},
   "outputs": [
    {
     "name": "stdout",
     "output_type": "stream",
     "text": [
      "Analysis per Age - Absolute and Percentage values:\n"
     ]
    },
    {
     "data": {
      "text/html": [
       "<div>\n",
       "<style scoped>\n",
       "    .dataframe tbody tr th:only-of-type {\n",
       "        vertical-align: middle;\n",
       "    }\n",
       "\n",
       "    .dataframe tbody tr th {\n",
       "        vertical-align: top;\n",
       "    }\n",
       "\n",
       "    .dataframe thead th {\n",
       "        text-align: right;\n",
       "    }\n",
       "</style>\n",
       "<table border=\"1\" class=\"dataframe\">\n",
       "  <thead>\n",
       "    <tr style=\"text-align: right;\">\n",
       "      <th></th>\n",
       "      <th>age</th>\n",
       "      <th>percentage</th>\n",
       "    </tr>\n",
       "  </thead>\n",
       "  <tbody>\n",
       "    <tr>\n",
       "      <th>18-25</th>\n",
       "      <td>72</td>\n",
       "      <td>47.37</td>\n",
       "    </tr>\n",
       "    <tr>\n",
       "      <th>26-35</th>\n",
       "      <td>49</td>\n",
       "      <td>32.24</td>\n",
       "    </tr>\n",
       "    <tr>\n",
       "      <th>36-45</th>\n",
       "      <td>22</td>\n",
       "      <td>14.47</td>\n",
       "    </tr>\n",
       "    <tr>\n",
       "      <th>17 or less</th>\n",
       "      <td>4</td>\n",
       "      <td>2.63</td>\n",
       "    </tr>\n",
       "    <tr>\n",
       "      <th>46-55</th>\n",
       "      <td>3</td>\n",
       "      <td>1.97</td>\n",
       "    </tr>\n",
       "    <tr>\n",
       "      <th>56 or more</th>\n",
       "      <td>2</td>\n",
       "      <td>1.32</td>\n",
       "    </tr>\n",
       "  </tbody>\n",
       "</table>\n",
       "</div>"
      ],
      "text/plain": [
       "            age  percentage\n",
       "18-25        72       47.37\n",
       "26-35        49       32.24\n",
       "36-45        22       14.47\n",
       "17 or less    4        2.63\n",
       "46-55         3        1.97\n",
       "56 or more    2        1.32"
      ]
     },
     "execution_count": 13,
     "metadata": {},
     "output_type": "execute_result"
    }
   ],
   "source": [
    "print('Analysis per Age - Absolute and Percentage values:')\n",
    "df_age = df.age.value_counts().to_frame()                   # Converting to a dataframe\n",
    "df_age['percentage'] = ((df_age['age'] / \n",
    "                         df_age['age'].sum())*100).round(2)\n",
    "df_age"
   ]
  },
  {
   "cell_type": "code",
   "execution_count": 14,
   "id": "b90262ae",
   "metadata": {},
   "outputs": [
    {
     "name": "stdout",
     "output_type": "stream",
     "text": [
      "Regarding the ages:\n",
      "\n",
      "In percentage values:\n",
      "17 or less: 14.47 %\n",
      "18 - 25   : 47.37 %\n",
      "26 - 35   : 32.24 %\n",
      "46 - 55   : 2.63 %\n",
      "55 or more: 1.97 %\n"
     ]
    }
   ],
   "source": [
    "# Age - percentage values:\n",
    "print('Regarding the ages:\\n')\n",
    "print('In percentage values:')\n",
    "df.age.value_counts(normalize=True).round(4)\n",
    "range_18_25_pct = df.age.value_counts(normalize=True)[0]\n",
    "range_26_35_pct = df.age.value_counts(normalize=True)[1]\n",
    "range_17_less_pct = df.age.value_counts(normalize=True)[2]\n",
    "range_46_55_pct = df.age.value_counts(normalize=True)[3]\n",
    "range_55_more_pct = df.age.value_counts(normalize=True)[4]\n",
    "print('17 or less:',round(range_17_less_pct*100,2),'%')\n",
    "print('18 - 25   :',round(range_18_25_pct*100,2),'%')\n",
    "print('26 - 35   :',round(range_26_35_pct*100,2),'%')\n",
    "print('46 - 55   :',round(range_46_55_pct*100,2),'%')\n",
    "print('55 or more:',round(range_55_more_pct*100,2),'%')"
   ]
  },
  {
   "cell_type": "code",
   "execution_count": 15,
   "id": "f80bcb00",
   "metadata": {},
   "outputs": [
    {
     "data": {
      "text/plain": [
       "<AxesSubplot:title={'center':'Age - Absolute Numbers'}, xlabel='Range of Age', ylabel='Quantity'>"
      ]
     },
     "execution_count": 15,
     "metadata": {},
     "output_type": "execute_result"
    },
    {
     "data": {
      "image/png": "[encoded data removed]",
      "text/plain": [
       "<Figure size 432x288 with 1 Axes>"
      ]
     },
     "metadata": {
      "needs_background": "light"
     },
     "output_type": "display_data"
    }
   ],
   "source": [
    "# Age - Graph of the Absolute Numbers:\n",
    "fig, ax = plt.subplots()\n",
    "font1 = {'family':'serif','color':'blue','size':20}\n",
    "font2 = {'family':'serif','color':'darkred','size':15}\n",
    "plt.title(\"Age - Absolute Numbers\", fontdict=font1)\n",
    "plt.xlabel(\"Range of Age\", fontdict = font2)\n",
    "plt.ylabel(\"Quantity\", fontdict = font2)\n",
    "df.age.value_counts().plot(ax=ax, kind='bar')"
   ]
  },
  {
   "cell_type": "code",
   "execution_count": 16,
   "id": "4c1b5042",
   "metadata": {},
   "outputs": [
    {
     "data": {
      "text/plain": [
       "<AxesSubplot:title={'center':'Age - Percentage Numbers'}, xlabel='Range of Age', ylabel='Percentage'>"
      ]
     },
     "execution_count": 16,
     "metadata": {},
     "output_type": "execute_result"
    },
    {
     "data": {
      "image/png": "[encoded data removed]",
      "text/plain": [
       "<Figure size 432x288 with 1 Axes>"
      ]
     },
     "metadata": {
      "needs_background": "light"
     },
     "output_type": "display_data"
    }
   ],
   "source": [
    "# Age - Graph of the Percentage Numbers:\n",
    "fig, ax = plt.subplots()\n",
    "font1 = {'family':'serif','color':'blue','size':20}\n",
    "font2 = {'family':'serif','color':'darkred','size':15}\n",
    "plt.title(\"Age - Percentage Numbers\", fontdict=font1)\n",
    "plt.xlabel(\"Range of Age\", fontdict = font2)\n",
    "plt.ylabel(\"Percentage\", fontdict = font2)\n",
    "df.age.value_counts(normalize=True).plot(ax=ax, kind='bar')"
   ]
  },
  {
   "cell_type": "markdown",
   "id": "c61b6690",
   "metadata": {},
   "source": [
    "# Analysis regarding the gender/sex:"
   ]
  },
  {
   "cell_type": "code",
   "execution_count": 17,
   "id": "4f18393c",
   "metadata": {},
   "outputs": [
    {
     "name": "stdout",
     "output_type": "stream",
     "text": [
      "Analysis per Gender/Sex - Absolute and Percentage values:\n"
     ]
    },
    {
     "data": {
      "text/html": [
       "<div>\n",
       "<style scoped>\n",
       "    .dataframe tbody tr th:only-of-type {\n",
       "        vertical-align: middle;\n",
       "    }\n",
       "\n",
       "    .dataframe tbody tr th {\n",
       "        vertical-align: top;\n",
       "    }\n",
       "\n",
       "    .dataframe thead th {\n",
       "        text-align: right;\n",
       "    }\n",
       "</style>\n",
       "<table border=\"1\" class=\"dataframe\">\n",
       "  <thead>\n",
       "    <tr style=\"text-align: right;\">\n",
       "      <th></th>\n",
       "      <th>gender</th>\n",
       "      <th>percentage</th>\n",
       "    </tr>\n",
       "  </thead>\n",
       "  <tbody>\n",
       "    <tr>\n",
       "      <th>Male</th>\n",
       "      <td>87</td>\n",
       "      <td>57.24</td>\n",
       "    </tr>\n",
       "    <tr>\n",
       "      <th>Female</th>\n",
       "      <td>65</td>\n",
       "      <td>42.76</td>\n",
       "    </tr>\n",
       "  </tbody>\n",
       "</table>\n",
       "</div>"
      ],
      "text/plain": [
       "        gender  percentage\n",
       "Male        87       57.24\n",
       "Female      65       42.76"
      ]
     },
     "execution_count": 17,
     "metadata": {},
     "output_type": "execute_result"
    }
   ],
   "source": [
    "print('Analysis per Gender/Sex - Absolute and Percentage values:')\n",
    "df_gender = df.gender.value_counts().to_frame()                   # Converting to a dataframe\n",
    "df_gender['percentage'] = ((df_gender['gender'] / \n",
    "                               df_gender['gender'].sum())*100).round(2)\n",
    "df_gender"
   ]
  },
  {
   "cell_type": "code",
   "execution_count": 18,
   "id": "6d31fd3c",
   "metadata": {},
   "outputs": [
    {
     "name": "stdout",
     "output_type": "stream",
     "text": [
      "Analysis per gender - Only Absolute values:\n"
     ]
    },
    {
     "data": {
      "text/plain": [
       "Male      87\n",
       "Female    65\n",
       "Name: gender, dtype: int64"
      ]
     },
     "execution_count": 18,
     "metadata": {},
     "output_type": "execute_result"
    }
   ],
   "source": [
    "print('Analysis per gender - Only Absolute values:')\n",
    "male = df.gender.value_counts()[0]\n",
    "female = df.gender.value_counts()[1]\n",
    "df.gender.value_counts()"
   ]
  },
  {
   "cell_type": "code",
   "execution_count": 19,
   "id": "b63d92c9",
   "metadata": {},
   "outputs": [
    {
     "name": "stdout",
     "output_type": "stream",
     "text": [
      "Analysis per gender - Only Percentage values:\n"
     ]
    },
    {
     "data": {
      "text/plain": [
       "Male      0.5724\n",
       "Female    0.4276\n",
       "Name: gender, dtype: float64"
      ]
     },
     "execution_count": 19,
     "metadata": {},
     "output_type": "execute_result"
    }
   ],
   "source": [
    "print('Analysis per gender - Only Percentage values:')\n",
    "male_pct = df.gender.value_counts()[0]\n",
    "female_pct = df.gender.value_counts()[1]\n",
    "df.gender.value_counts(normalize=True).round(4)"
   ]
  },
  {
   "cell_type": "code",
   "execution_count": 20,
   "id": "6c76a221",
   "metadata": {},
   "outputs": [
    {
     "data": {
      "text/plain": [
       "<AxesSubplot:title={'center':'Gender/Sex - Absolute Numbers'}, xlabel='Gender/Sex', ylabel='Quantity'>"
      ]
     },
     "execution_count": 20,
     "metadata": {},
     "output_type": "execute_result"
    },
    {
     "data": {
      "image/png": "[encoded data removed]",
      "text/plain": [
       "<Figure size 432x288 with 1 Axes>"
      ]
     },
     "metadata": {
      "needs_background": "light"
     },
     "output_type": "display_data"
    }
   ],
   "source": [
    "# Gender/Sex - Graph of the Absolute Numbers:\n",
    "fig, ax = plt.subplots()\n",
    "font1 = {'family':'serif','color':'blue','size':20}\n",
    "font2 = {'family':'serif','color':'darkred','size':15}\n",
    "plt.title(\"Gender/Sex - Absolute Numbers\", fontdict=font1)\n",
    "plt.xlabel(\"Gender/Sex\", fontdict = font2)\n",
    "plt.ylabel(\"Quantity\", fontdict = font2)\n",
    "df.gender.value_counts().plot(ax=ax, kind='bar')"
   ]
  },
  {
   "cell_type": "code",
   "execution_count": 21,
   "id": "e869e2e8",
   "metadata": {},
   "outputs": [
    {
     "data": {
      "text/plain": [
       "<AxesSubplot:title={'center':'Gender/Sex - Percentage Numbers'}, xlabel='Gender/Sex', ylabel='Percentage'>"
      ]
     },
     "execution_count": 21,
     "metadata": {},
     "output_type": "execute_result"
    },
    {
     "data": {
      "image/png": "[encoded data removed]",
      "text/plain": [
       "<Figure size 432x288 with 1 Axes>"
      ]
     },
     "metadata": {
      "needs_background": "light"
     },
     "output_type": "display_data"
    }
   ],
   "source": [
    "# Gender/Sex - Graph of the Percentage Numbers:\n",
    "fig, ax = plt.subplots()\n",
    "font1 = {'family':'serif','color':'blue','size':20}\n",
    "font2 = {'family':'serif','color':'darkred','size':15}\n",
    "plt.title(\"Gender/Sex - Percentage Numbers\", fontdict=font1)\n",
    "plt.xlabel(\"Gender/Sex\", fontdict = font2)\n",
    "plt.ylabel(\"Percentage\", fontdict = font2)\n",
    "df.gender.value_counts(normalize=True).plot(ax=ax, kind='bar')"
   ]
  },
  {
   "cell_type": "markdown",
   "id": "eaf81baf",
   "metadata": {},
   "source": [
    "# Analysis regarding Education:"
   ]
  },
  {
   "cell_type": "code",
   "execution_count": 22,
   "id": "32ef2936",
   "metadata": {},
   "outputs": [
    {
     "name": "stdout",
     "output_type": "stream",
     "text": [
      "Analysis per Education - Absolute and Percentage values:\n"
     ]
    },
    {
     "data": {
      "text/html": [
       "<div>\n",
       "<style scoped>\n",
       "    .dataframe tbody tr th:only-of-type {\n",
       "        vertical-align: middle;\n",
       "    }\n",
       "\n",
       "    .dataframe tbody tr th {\n",
       "        vertical-align: top;\n",
       "    }\n",
       "\n",
       "    .dataframe thead th {\n",
       "        text-align: right;\n",
       "    }\n",
       "</style>\n",
       "<table border=\"1\" class=\"dataframe\">\n",
       "  <thead>\n",
       "    <tr style=\"text-align: right;\">\n",
       "      <th></th>\n",
       "      <th>education</th>\n",
       "      <th>percentage</th>\n",
       "    </tr>\n",
       "  </thead>\n",
       "  <tbody>\n",
       "    <tr>\n",
       "      <th>Masters</th>\n",
       "      <td>65</td>\n",
       "      <td>44.22</td>\n",
       "    </tr>\n",
       "    <tr>\n",
       "      <th>University</th>\n",
       "      <td>41</td>\n",
       "      <td>27.89</td>\n",
       "    </tr>\n",
       "    <tr>\n",
       "      <th>College</th>\n",
       "      <td>11</td>\n",
       "      <td>7.48</td>\n",
       "    </tr>\n",
       "    <tr>\n",
       "      <th>Vocational training</th>\n",
       "      <td>11</td>\n",
       "      <td>7.48</td>\n",
       "    </tr>\n",
       "    <tr>\n",
       "      <th>Doctorate / PhD</th>\n",
       "      <td>10</td>\n",
       "      <td>6.80</td>\n",
       "    </tr>\n",
       "    <tr>\n",
       "      <th>High school</th>\n",
       "      <td>5</td>\n",
       "      <td>3.40</td>\n",
       "    </tr>\n",
       "    <tr>\n",
       "      <th>No formal education</th>\n",
       "      <td>3</td>\n",
       "      <td>2.04</td>\n",
       "    </tr>\n",
       "    <tr>\n",
       "      <th>Other</th>\n",
       "      <td>1</td>\n",
       "      <td>0.68</td>\n",
       "    </tr>\n",
       "  </tbody>\n",
       "</table>\n",
       "</div>"
      ],
      "text/plain": [
       "                     education  percentage\n",
       "Masters                     65       44.22\n",
       "University                  41       27.89\n",
       "College                     11        7.48\n",
       "Vocational training         11        7.48\n",
       "Doctorate / PhD             10        6.80\n",
       "High school                  5        3.40\n",
       "No formal education          3        2.04\n",
       "Other                        1        0.68"
      ]
     },
     "execution_count": 22,
     "metadata": {},
     "output_type": "execute_result"
    }
   ],
   "source": [
    "print('Analysis per Education - Absolute and Percentage values:')\n",
    "df_education = df.education.value_counts().to_frame()                   # Converting to a dataframe\n",
    "df_education['percentage'] = ((df_education['education'] / \n",
    "                               df_education['education'].sum())*100).round(2)\n",
    "df_education"
   ]
  },
  {
   "cell_type": "code",
   "execution_count": 23,
   "id": "8a90d064",
   "metadata": {},
   "outputs": [
    {
     "data": {
      "text/plain": [
       "<AxesSubplot:title={'center':'Education - Absolute Numbers'}, xlabel='Level of Education', ylabel='Quantity'>"
      ]
     },
     "execution_count": 23,
     "metadata": {},
     "output_type": "execute_result"
    },
    {
     "data": {
      "image/png": "[encoded data removed]",
      "text/plain": [
       "<Figure size 432x288 with 1 Axes>"
      ]
     },
     "metadata": {
      "needs_background": "light"
     },
     "output_type": "display_data"
    }
   ],
   "source": [
    "# Education - Graph of the Absolute Numbers:\n",
    "fig, ax = plt.subplots()\n",
    "font1 = {'family':'serif','color':'blue','size':20}\n",
    "font2 = {'family':'serif','color':'darkred','size':15}\n",
    "plt.title(\"Education - Absolute Numbers\", fontdict=font1)\n",
    "plt.xlabel(\"Level of Education\", fontdict = font2)\n",
    "plt.ylabel(\"Quantity\", fontdict = font2)\n",
    "df.education.value_counts().plot(ax=ax, kind='bar')"
   ]
  },
  {
   "cell_type": "code",
   "execution_count": 24,
   "id": "47aaaa60",
   "metadata": {},
   "outputs": [
    {
     "data": {
      "text/plain": [
       "<AxesSubplot:title={'center':'Education - Percentage Numbers'}, xlabel='Level of Education', ylabel='Percentage'>"
      ]
     },
     "execution_count": 24,
     "metadata": {},
     "output_type": "execute_result"
    },
    {
     "data": {
      "image/png": "[encoded data removed]",
      "text/plain": [
       "<Figure size 432x288 with 1 Axes>"
      ]
     },
     "metadata": {
      "needs_background": "light"
     },
     "output_type": "display_data"
    }
   ],
   "source": [
    "# Education - Graph of the Percentage Numbers:\n",
    "fig, ax = plt.subplots()\n",
    "font1 = {'family':'serif','color':'blue','size':20}\n",
    "font2 = {'family':'serif','color':'darkred','size':15}\n",
    "plt.title(\"Education - Percentage Numbers\", fontdict=font1)\n",
    "plt.xlabel(\"Level of Education\", fontdict = font2)\n",
    "plt.ylabel(\"Percentage\", fontdict = font2)\n",
    "df.education.value_counts(normalize=True).plot(ax=ax, kind='bar')"
   ]
  },
  {
   "cell_type": "markdown",
   "id": "2dc7330e",
   "metadata": {},
   "source": [
    "# Analysing regarding Marital Status:"
   ]
  },
  {
   "cell_type": "code",
   "execution_count": 25,
   "id": "892e6ee3",
   "metadata": {},
   "outputs": [
    {
     "name": "stdout",
     "output_type": "stream",
     "text": [
      "Analysis per Matiral Status - Absolute and Percentage values:\n"
     ]
    },
    {
     "data": {
      "text/html": [
       "<div>\n",
       "<style scoped>\n",
       "    .dataframe tbody tr th:only-of-type {\n",
       "        vertical-align: middle;\n",
       "    }\n",
       "\n",
       "    .dataframe tbody tr th {\n",
       "        vertical-align: top;\n",
       "    }\n",
       "\n",
       "    .dataframe thead th {\n",
       "        text-align: right;\n",
       "    }\n",
       "</style>\n",
       "<table border=\"1\" class=\"dataframe\">\n",
       "  <thead>\n",
       "    <tr style=\"text-align: right;\">\n",
       "      <th></th>\n",
       "      <th>marital_status</th>\n",
       "      <th>percentage</th>\n",
       "    </tr>\n",
       "  </thead>\n",
       "  <tbody>\n",
       "    <tr>\n",
       "      <th>Single</th>\n",
       "      <td>98</td>\n",
       "      <td>66.67</td>\n",
       "    </tr>\n",
       "    <tr>\n",
       "      <th>Married</th>\n",
       "      <td>35</td>\n",
       "      <td>23.81</td>\n",
       "    </tr>\n",
       "    <tr>\n",
       "      <th>Divorced</th>\n",
       "      <td>12</td>\n",
       "      <td>8.16</td>\n",
       "    </tr>\n",
       "    <tr>\n",
       "      <th>Widowed</th>\n",
       "      <td>2</td>\n",
       "      <td>1.36</td>\n",
       "    </tr>\n",
       "  </tbody>\n",
       "</table>\n",
       "</div>"
      ],
      "text/plain": [
       "          marital_status  percentage\n",
       "Single                98       66.67\n",
       "Married               35       23.81\n",
       "Divorced              12        8.16\n",
       "Widowed                2        1.36"
      ]
     },
     "execution_count": 25,
     "metadata": {},
     "output_type": "execute_result"
    }
   ],
   "source": [
    "print('Analysis per Matiral Status - Absolute and Percentage values:')\n",
    "df_marital_status = df.marital_status.value_counts().to_frame()   # Converting to a dataframe\n",
    "df_marital_status['percentage'] = ((df_marital_status['marital_status'] / \n",
    "                               df_marital_status['marital_status'].sum())*100).round(2)\n",
    "df_marital_status"
   ]
  },
  {
   "cell_type": "code",
   "execution_count": 26,
   "id": "2e452cc8",
   "metadata": {},
   "outputs": [
    {
     "name": "stdout",
     "output_type": "stream",
     "text": [
      "Analysis per Marital Status - Absolute values:\n"
     ]
    },
    {
     "data": {
      "text/plain": [
       "Single      98\n",
       "Married     35\n",
       "Divorced    12\n",
       "Widowed      2\n",
       "Name: marital_status, dtype: int64"
      ]
     },
     "execution_count": 26,
     "metadata": {},
     "output_type": "execute_result"
    }
   ],
   "source": [
    "print('Analysis per Marital Status - Absolute values:')\n",
    "df.marital_status.value_counts()"
   ]
  },
  {
   "cell_type": "code",
   "execution_count": 27,
   "id": "8d9d63e5",
   "metadata": {},
   "outputs": [
    {
     "name": "stdout",
     "output_type": "stream",
     "text": [
      "Analysis per Marital Status - Percentage values:\n"
     ]
    },
    {
     "data": {
      "text/plain": [
       "Single      0.6667\n",
       "Married     0.2381\n",
       "Divorced    0.0816\n",
       "Widowed     0.0136\n",
       "Name: marital_status, dtype: float64"
      ]
     },
     "execution_count": 27,
     "metadata": {},
     "output_type": "execute_result"
    }
   ],
   "source": [
    "print('Analysis per Marital Status - Percentage values:')\n",
    "df.marital_status.value_counts(normalize = True).round(4)"
   ]
  },
  {
   "cell_type": "code",
   "execution_count": 28,
   "id": "cb5cc927",
   "metadata": {},
   "outputs": [
    {
     "data": {
      "text/plain": [
       "<AxesSubplot:title={'center':'Marital Status - Absolute Numbers'}, xlabel='Marital Status', ylabel='Quantity'>"
      ]
     },
     "execution_count": 28,
     "metadata": {},
     "output_type": "execute_result"
    },
    {
     "data": {
      "image/png": "[encoded data removed]",
      "text/plain": [
       "<Figure size 432x288 with 1 Axes>"
      ]
     },
     "metadata": {
      "needs_background": "light"
     },
     "output_type": "display_data"
    }
   ],
   "source": [
    "# Marital Status - Graph of the Absolute Numbers:\n",
    "fig, ax = plt.subplots()\n",
    "font1 = {'family':'serif','color':'blue','size':20}\n",
    "font2 = {'family':'serif','color':'darkred','size':15}\n",
    "plt.title(\"Marital Status - Absolute Numbers\", fontdict=font1)\n",
    "plt.xlabel(\"Marital Status\", fontdict = font2)\n",
    "plt.ylabel(\"Quantity\", fontdict = font2)\n",
    "df.marital_status.value_counts().plot(ax=ax, kind='bar')"
   ]
  },
  {
   "cell_type": "code",
   "execution_count": 29,
   "id": "8dc88f52",
   "metadata": {},
   "outputs": [
    {
     "data": {
      "text/plain": [
       "<AxesSubplot:title={'center':'Marital Status - Percentage Numbers'}, xlabel='Marital Status', ylabel='Percentage'>"
      ]
     },
     "execution_count": 29,
     "metadata": {},
     "output_type": "execute_result"
    },
    {
     "data": {
      "image/png": "[encoded data removed]",
      "text/plain": [
       "<Figure size 432x288 with 1 Axes>"
      ]
     },
     "metadata": {
      "needs_background": "light"
     },
     "output_type": "display_data"
    }
   ],
   "source": [
    "# Marital Status - Graph of the Percentage Numbers:\n",
    "fig, ax = plt.subplots()\n",
    "font1 = {'family':'serif','color':'blue','size':20}\n",
    "font2 = {'family':'serif','color':'darkred','size':15}\n",
    "plt.title(\"Marital Status - Percentage Numbers\", fontdict=font1)\n",
    "plt.xlabel(\"Marital Status\", fontdict = font2)\n",
    "plt.ylabel(\"Percentage\", fontdict = font2)\n",
    "df.marital_status.value_counts(normalize=True).plot(ax=ax, kind='bar')"
   ]
  },
  {
   "cell_type": "markdown",
   "id": "ea8a4788",
   "metadata": {},
   "source": [
    "## Analysing regarding Average Daily Time spent of Facebook:"
   ]
  },
  {
   "cell_type": "code",
   "execution_count": 30,
   "id": "728261e8",
   "metadata": {},
   "outputs": [
    {
     "name": "stdout",
     "output_type": "stream",
     "text": [
      "Analysis per Average Daily Time - Absolute and Percentage values:\n"
     ]
    },
    {
     "data": {
      "text/html": [
       "<div>\n",
       "<style scoped>\n",
       "    .dataframe tbody tr th:only-of-type {\n",
       "        vertical-align: middle;\n",
       "    }\n",
       "\n",
       "    .dataframe tbody tr th {\n",
       "        vertical-align: top;\n",
       "    }\n",
       "\n",
       "    .dataframe thead th {\n",
       "        text-align: right;\n",
       "    }\n",
       "</style>\n",
       "<table border=\"1\" class=\"dataframe\">\n",
       "  <thead>\n",
       "    <tr style=\"text-align: right;\">\n",
       "      <th></th>\n",
       "      <th>average_daily_time</th>\n",
       "      <th>percentage</th>\n",
       "    </tr>\n",
       "  </thead>\n",
       "  <tbody>\n",
       "    <tr>\n",
       "      <th>1 – 2 hours</th>\n",
       "      <td>51</td>\n",
       "      <td>34.93</td>\n",
       "    </tr>\n",
       "    <tr>\n",
       "      <th>More than 3 hours</th>\n",
       "      <td>38</td>\n",
       "      <td>26.03</td>\n",
       "    </tr>\n",
       "    <tr>\n",
       "      <th>30 – 60 minutes</th>\n",
       "      <td>36</td>\n",
       "      <td>24.66</td>\n",
       "    </tr>\n",
       "    <tr>\n",
       "      <th>Less than 30 minutes</th>\n",
       "      <td>21</td>\n",
       "      <td>14.38</td>\n",
       "    </tr>\n",
       "  </tbody>\n",
       "</table>\n",
       "</div>"
      ],
      "text/plain": [
       "                      average_daily_time  percentage\n",
       "1 – 2 hours                           51       34.93\n",
       "More than 3 hours                     38       26.03\n",
       "30 – 60 minutes                       36       24.66\n",
       "Less than 30 minutes                  21       14.38"
      ]
     },
     "execution_count": 30,
     "metadata": {},
     "output_type": "execute_result"
    }
   ],
   "source": [
    "print('Analysis per Average Daily Time - Absolute and Percentage values:')\n",
    "df_average_daily_time = df.average_daily_time .value_counts().to_frame()   # Converting to a dataframe\n",
    "df_average_daily_time['percentage'] = ((df_average_daily_time['average_daily_time'] / \n",
    "                                        df_average_daily_time['average_daily_time'].sum())*100).round(2)\n",
    "df_average_daily_time"
   ]
  },
  {
   "cell_type": "code",
   "execution_count": 31,
   "id": "94f1de72",
   "metadata": {},
   "outputs": [
    {
     "data": {
      "text/plain": [
       "<AxesSubplot:title={'center':'Average Daily Time Spent of Facebook'}, xlabel='Daily Time Spent', ylabel='Quantity'>"
      ]
     },
     "execution_count": 31,
     "metadata": {},
     "output_type": "execute_result"
    },
    {
     "data": {
      "image/png": "[encoded data removed]",
      "text/plain": [
       "<Figure size 432x288 with 1 Axes>"
      ]
     },
     "metadata": {
      "needs_background": "light"
     },
     "output_type": "display_data"
    }
   ],
   "source": [
    "# Average Daily Time Spent of Facebook - Graph of the Absolute Numbers:\n",
    "fig, ax = plt.subplots()\n",
    "font1 = {'family':'serif','color':'blue','size':20}\n",
    "font2 = {'family':'serif','color':'darkred','size':15}\n",
    "plt.title(\"Average Daily Time Spent of Facebook\", fontdict=font1)\n",
    "plt.xlabel(\"Daily Time Spent\", fontdict = font2)\n",
    "plt.ylabel(\"Quantity\", fontdict = font2)\n",
    "df_average_daily_time['average_daily_time'].sort_values(axis = 0).plot(ax=ax, kind='bar')"
   ]
  },
  {
   "cell_type": "markdown",
   "id": "20202e98",
   "metadata": {},
   "source": [
    "## Analizing regarding Following Brands on Facebook:"
   ]
  },
  {
   "cell_type": "code",
   "execution_count": 32,
   "id": "8d955e9a",
   "metadata": {},
   "outputs": [
    {
     "name": "stdout",
     "output_type": "stream",
     "text": [
      "Analysis per Brand/Company Followers - Absolute and Percentage values:\n"
     ]
    },
    {
     "data": {
      "text/html": [
       "<div>\n",
       "<style scoped>\n",
       "    .dataframe tbody tr th:only-of-type {\n",
       "        vertical-align: middle;\n",
       "    }\n",
       "\n",
       "    .dataframe tbody tr th {\n",
       "        vertical-align: top;\n",
       "    }\n",
       "\n",
       "    .dataframe thead th {\n",
       "        text-align: right;\n",
       "    }\n",
       "</style>\n",
       "<table border=\"1\" class=\"dataframe\">\n",
       "  <thead>\n",
       "    <tr style=\"text-align: right;\">\n",
       "      <th></th>\n",
       "      <th>facebook_following</th>\n",
       "      <th>percentage</th>\n",
       "    </tr>\n",
       "  </thead>\n",
       "  <tbody>\n",
       "    <tr>\n",
       "      <th>Yes</th>\n",
       "      <td>132</td>\n",
       "      <td>90.41</td>\n",
       "    </tr>\n",
       "    <tr>\n",
       "      <th>No</th>\n",
       "      <td>13</td>\n",
       "      <td>8.90</td>\n",
       "    </tr>\n",
       "    <tr>\n",
       "      <th>Yes.1</th>\n",
       "      <td>1</td>\n",
       "      <td>0.68</td>\n",
       "    </tr>\n",
       "  </tbody>\n",
       "</table>\n",
       "</div>"
      ],
      "text/plain": [
       "       facebook_following  percentage\n",
       "Yes                   132       90.41\n",
       "No                     13        8.90\n",
       "Yes.1                   1        0.68"
      ]
     },
     "execution_count": 32,
     "metadata": {},
     "output_type": "execute_result"
    }
   ],
   "source": [
    "print('Analysis per Brand/Company Followers - Absolute and Percentage values:')\n",
    "df_facebook_following = df.facebook_following .value_counts().to_frame()   # Converting to a dataframe\n",
    "df_facebook_following['percentage'] = ((df_facebook_following['facebook_following'] / \n",
    "                                        df_facebook_following['facebook_following'].sum())*100).round(2)\n",
    "df_facebook_following"
   ]
  },
  {
   "cell_type": "code",
   "execution_count": 33,
   "id": "43fc4dea",
   "metadata": {},
   "outputs": [
    {
     "data": {
      "text/plain": [
       "<AxesSubplot:title={'center':'Brand/Company Followers on Facebook'}, xlabel='Brand/Company Followers', ylabel='Quantity'>"
      ]
     },
     "execution_count": 33,
     "metadata": {},
     "output_type": "execute_result"
    },
    {
     "data": {
      "image/png": "[encoded data removed]",
      "text/plain": [
       "<Figure size 432x288 with 1 Axes>"
      ]
     },
     "metadata": {
      "needs_background": "light"
     },
     "output_type": "display_data"
    }
   ],
   "source": [
    "# Brand/Company Followers - Graph of the Absolute Numbers:\n",
    "fig, ax = plt.subplots()\n",
    "font1 = {'family':'serif','color':'blue','size':20}\n",
    "font2 = {'family':'serif','color':'darkred','size':15}\n",
    "plt.title(\"Brand/Company Followers on Facebook\", fontdict=font1)\n",
    "plt.xlabel(\"Brand/Company Followers\", fontdict = font2)\n",
    "plt.ylabel(\"Quantity\", fontdict = font2)\n",
    "df_facebook_following['facebook_following'].sort_values(axis = 0).plot(ax=ax, kind='bar')"
   ]
  },
  {
   "cell_type": "markdown",
   "id": "d82fe462",
   "metadata": {},
   "source": [
    "# Hypothesis to be checked:\n",
    "\n",
    "\n",
    "##### H1: \n",
    "    The trust given to Facebook as a purchasing channel has an impact on the intention\n",
    "##### H2: \n",
    "    Social influence positively affects the need recognition phase of the decision-making process of sports consumers on Facebook. \n",
    "##### H3: \n",
    "    Social influence positively affects the information search phase of the decision-making process of consumers on Facebook. \n",
    "##### H4: \n",
    "    Social influence positively affects the evaluation of alternatives phase of the decision-making process of consumers on Facebook. \n",
    "##### H5: \n",
    "    Social influence positively affects the actual purchase phase of the decision-making process of consumers on Facebook. \n",
    "##### H6: \n",
    "    Social influence positively affects the post-purchase evaluation phase of the decision-making process of consumers on Facebook."
   ]
  },
  {
   "cell_type": "markdown",
   "id": "432b4dad",
   "metadata": {},
   "source": [
    "# Thank you very much!"
   ]
  }
 ],
 "metadata": {
  "kernelspec": {
   "display_name": "Python 3 (ipykernel)",
   "language": "python",
   "name": "python3"
  },
  "language_info": {
   "codemirror_mode": {
    "name": "ipython",
    "version": 3
   },
   "file_extension": ".py",
   "mimetype": "text/x-python",
   "name": "python",
   "nbconvert_exporter": "python",
   "pygments_lexer": "ipython3",
   "version": "3.9.12"
  }
 },
 "nbformat": 4,
 "nbformat_minor": 5
}
